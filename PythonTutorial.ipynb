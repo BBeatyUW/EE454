{
  "nbformat": 4,
  "nbformat_minor": 0,
  "metadata": {
    "colab": {
      "name": "PythonTutorial.ipynb",
      "provenance": [],
      "collapsed_sections": []
    },
    "kernelspec": {
      "display_name": "Python 3",
      "language": "python",
      "name": "python3"
    },
    "language_info": {
      "codemirror_mode": {
        "name": "ipython",
        "version": 3
      },
      "file_extension": ".py",
      "mimetype": "text/x-python",
      "name": "python",
      "nbconvert_exporter": "python",
      "pygments_lexer": "ipython3",
      "version": "3.7.1"
    }
  },
  "cells": [
    {
      "cell_type": "markdown",
      "metadata": {
        "id": "cP_zkYFv8odT",
        "colab_type": "text"
      },
      "source": [
        "# NumPy Tutorial\n",
        "\n",
        "\n",
        "\n",
        "[Python](https://www.python.org) is highly encouraged for EE 454.\n",
        "And for the purpose of this class, we will use it to create a power flow solver using the Newton Raphson method. \n",
        "[NumPy](https://www.numpy.org) and [SciPy](https://www.scipy.org) are the packages that heavily used in this end.\n",
        "\n",
        "In this tutorial, we will go through some simple examples that demonstrate how to use NumPy on basic linear algebra calculations.\n",
        "\n"
      ]
    },
    {
      "cell_type": "markdown",
      "metadata": {
        "id": "yO7UrOML8ru8",
        "colab_type": "text"
      },
      "source": [
        "## Other Resources\n",
        "\n",
        "Due to the length of this tutorial, we will not be able to cover all aspects of Python.\n",
        "Fortunately, as one of the most popular programming languages, there are a lot of resources for learning Python.\n",
        "\n",
        "Here we provide a list of the tutorials, in case you are interested.\n",
        "\n",
        "* [Python For Beginners](https://www.python.org/about/gettingstarted/)\n",
        "* [The Python Tutorial](https://docs.python.org/3/tutorial/)\n",
        "* [NumPy User Guide](https://docs.scipy.org/doc/numpy-1.15.4/user/)\n",
        "* [NumPy Quickstart Tutorial](https://docs.scipy.org/doc/numpy-1.15.4/user/quickstart.html)\n",
        "* [SciPy Tutorial](https://docs.scipy.org/doc/scipy-1.2.0/reference/tutorial/)\n",
        "\n",
        "Major content of this tutorial is extracted from these sites."
      ]
    },
    {
      "cell_type": "code",
      "metadata": {
        "id": "SxtreRzLOoTV",
        "colab_type": "code",
        "colab": {
          "base_uri": "https://localhost:8080/",
          "height": 102
        },
        "outputId": "f4b5f60d-2ad7-4bf5-989a-06f8125d4d3e"
      },
      "source": [
        "# install missing dependences \n",
        "!pip install xlsxwriter"
      ],
      "execution_count": 15,
      "outputs": [
        {
          "output_type": "stream",
          "text": [
            "Collecting xlsxwriter\n",
            "\u001b[?25l  Downloading https://files.pythonhosted.org/packages/f2/16/da654cfbc0b05f2ad253c0f244b0c2a76c403bb774717b39c92653acb290/XlsxWriter-1.2.6-py2.py3-none-any.whl (141kB)\n",
            "\u001b[K     |████████████████████████████████| 143kB 2.7MB/s \n",
            "\u001b[?25hInstalling collected packages: xlsxwriter\n",
            "Successfully installed xlsxwriter-1.2.6\n"
          ],
          "name": "stdout"
        }
      ]
    },
    {
      "cell_type": "code",
      "metadata": {
        "colab_type": "code",
        "id": "DJDznJh8cpzh",
        "colab": {}
      },
      "source": [
        "# ways to import packages and modules\n",
        "\n",
        "import scipy\n",
        "import numpy as np\n",
        "from numpy import random\n",
        "import xlsxwriter\n"
      ],
      "execution_count": 0,
      "outputs": []
    },
    {
      "cell_type": "code",
      "metadata": {
        "colab_type": "code",
        "id": "w5DwjHsBdBDe",
        "outputId": "6938d072-d216-4fa4-ab9d-35d47ab8250a",
        "colab": {
          "base_uri": "https://localhost:8080/",
          "height": 129
        }
      },
      "source": [
        "# indentation\n",
        "\n",
        "a = 1\n",
        "\n",
        "for i in range(5):\n",
        "  print(i)\n",
        " print(i**2)\n"
      ],
      "execution_count": 0,
      "outputs": [
        {
          "output_type": "error",
          "ename": "IndentationError",
          "evalue": "ignored",
          "traceback": [
            "\u001b[0;36m  File \u001b[0;32m\"<ipython-input-4-2400945c4b3b>\"\u001b[0;36m, line \u001b[0;32m6\u001b[0m\n\u001b[0;31m    print(i**2)\u001b[0m\n\u001b[0m               ^\u001b[0m\n\u001b[0;31mIndentationError\u001b[0m\u001b[0;31m:\u001b[0m unindent does not match any outer indentation level\n"
          ]
        }
      ]
    },
    {
      "cell_type": "code",
      "metadata": {
        "colab_type": "code",
        "id": "qyGkV2oxl2_Q",
        "colab": {}
      },
      "source": [
        "# logical operators\n",
        "\n",
        "a = True\n",
        "b = False\n",
        "\n",
        "c = 1\n",
        "d = 2\n",
        "\n",
        "if c == 1 and a: # a or b; not a and b; etc\n",
        "  print(a)"
      ],
      "execution_count": 0,
      "outputs": []
    },
    {
      "cell_type": "code",
      "metadata": {
        "colab_type": "code",
        "id": "vqmQtgHXdVhL",
        "outputId": "5aef308d-a188-4e2c-e81d-4e250f3c1fa5",
        "colab": {
          "base_uri": "https://localhost:8080/",
          "height": 204
        }
      },
      "source": [
        "# basic operations of string\n",
        "\n",
        "a = 'Hello '\n",
        "b = 'world!'\n",
        "\n",
        "\n",
        "astring = a + b\n",
        "\n",
        "print(astring)\n",
        "print(len(astring))\n",
        "print(astring.index('o'))\n",
        "print(astring.count(\"l\"))\n",
        "print(astring[3:7])\n",
        "print(astring.upper())\n",
        "print(astring.lower())\n",
        "\n",
        "print(astring.startswith(\"Hello\"))\n",
        "print(astring.endswith(\"asdfasdfasdf\"))\n",
        "\n",
        "words = astring.split()\n",
        "print(words)\n",
        "print(' '.join(words))"
      ],
      "execution_count": 0,
      "outputs": [
        {
          "output_type": "stream",
          "text": [
            "Hello world!\n",
            "12\n",
            "4\n",
            "3\n",
            "lo w\n",
            "HELLO WORLD!\n",
            "hello world!\n",
            "True\n",
            "False\n",
            "['Hello', 'world!']\n",
            "Hello world!\n"
          ],
          "name": "stdout"
        }
      ]
    },
    {
      "cell_type": "code",
      "metadata": {
        "colab_type": "code",
        "id": "N1f8RGZJhFzB",
        "outputId": "07200acc-bbd4-4653-dfa1-89bf2eead2a2",
        "colab": {
          "base_uri": "https://localhost:8080/",
          "height": 170
        }
      },
      "source": [
        "# basic operations of list\n",
        "\n",
        "# empty list\n",
        "my_list = []\n",
        "\n",
        "# list of integers\n",
        "my_list = [1, 2, 3]\n",
        "\n",
        "# list with mixed datatypes\n",
        "my_list = [1, \"Hello\", 3.4]\n",
        "\n",
        "\n",
        "# nested list\n",
        "my_list = [\"mouse\", [8, 4, 6], ['a']]\n",
        "\n",
        "print(my_list[0])\n",
        "print(my_list[-1])\n",
        "\n",
        "\n",
        "my_list = ['a','b','c','d','e','f','g','h','i']\n",
        "print(my_list[:-5])\n",
        "\n",
        "my_list_1 = ['cat', 'dog']\n",
        "my_list_2 = ['bird', 'mouse']\n",
        "my_list_1.append('horse')\n",
        "print(my_list_1)\n",
        "\n",
        "\n",
        "my_list_all = my_list_1 + my_list_2\n",
        "print(my_list_all)\n",
        "print(my_list_1*3)\n",
        "\n",
        "my_list.reverse()\n",
        "print(my_list)\n",
        "\n",
        "numbers = [x for x in range(10)]\n",
        "print(numbers)\n",
        "\n",
        "print('p' in my_list)"
      ],
      "execution_count": 3,
      "outputs": [
        {
          "output_type": "stream",
          "text": [
            "mouse\n",
            "['a']\n",
            "['a', 'b', 'c', 'd']\n",
            "['cat', 'dog', 'horse']\n",
            "['cat', 'dog', 'horse', 'bird', 'mouse']\n",
            "['cat', 'dog', 'horse', 'cat', 'dog', 'horse', 'cat', 'dog', 'horse']\n",
            "['i', 'h', 'g', 'f', 'e', 'd', 'c', 'b', 'a']\n",
            "[0, 1, 2, 3, 4, 5, 6, 7, 8, 9]\n",
            "False\n"
          ],
          "name": "stdout"
        }
      ]
    },
    {
      "cell_type": "code",
      "metadata": {
        "id": "rSuSxjhRJbXz",
        "colab_type": "code",
        "colab": {
          "base_uri": "https://localhost:8080/",
          "height": 323
        },
        "outputId": "d697dc33-e6a8-4baa-8e7c-d55e806c4112"
      },
      "source": [
        "# for loops and enumerated lists\n",
        "list1 = ['a','b','c','d','e','f']\n",
        "list2 = [10, 20, 50, 30, 80, 40]\n",
        "\n",
        "for i in list1:\n",
        "    print(i)\n",
        "\n",
        "    \n",
        "#access items in correlated lists\n",
        "for (i, x) in enumerate(list1):\n",
        "    res = [x, list2[i]]\n",
        "    print(res)\n",
        "\n",
        "#access items in correlated lists\n",
        "for (x1, x2) in zip(list1, list2):\n",
        "    print([x2,x1])"
      ],
      "execution_count": 7,
      "outputs": [
        {
          "output_type": "stream",
          "text": [
            "a\n",
            "b\n",
            "c\n",
            "d\n",
            "e\n",
            "f\n",
            "['a', 10]\n",
            "['b', 20]\n",
            "['c', 50]\n",
            "['d', 30]\n",
            "['e', 80]\n",
            "['f', 40]\n",
            "[10, 'a']\n",
            "[20, 'b']\n",
            "[50, 'c']\n",
            "[30, 'd']\n",
            "[80, 'e']\n",
            "[40, 'f']\n"
          ],
          "name": "stdout"
        }
      ]
    },
    {
      "cell_type": "code",
      "metadata": {
        "colab_type": "code",
        "id": "9d3uN5tsi8Di",
        "outputId": "b261d9e6-3e40-4aaa-a280-0a76e2b6f720",
        "colab": {
          "base_uri": "https://localhost:8080/",
          "height": 51
        }
      },
      "source": [
        "# basic operations of dict\n",
        "\n",
        "thisdict = {\n",
        "  \"brand\": \"Ford\",\n",
        "  \"model\": \"Mustang\",\n",
        "  \"year\": 1964\n",
        "}\n",
        "print(thisdict)\n",
        "\n",
        "print(len(thisdict))\n",
        "\n"
      ],
      "execution_count": 8,
      "outputs": [
        {
          "output_type": "stream",
          "text": [
            "{'brand': 'Ford', 'model': 'Mustang', 'year': 1964}\n",
            "3\n"
          ],
          "name": "stdout"
        }
      ]
    },
    {
      "cell_type": "code",
      "metadata": {
        "colab_type": "code",
        "id": "YbnHiOYPYA59",
        "outputId": "aad3a50a-868b-4e98-ecfb-3ebec8415df4",
        "colab": {
          "base_uri": "https://localhost:8080/",
          "height": 68
        }
      },
      "source": [
        "# 2nd cell of dict\n",
        "\n",
        "x = thisdict[\"model\"]\n",
        "\n",
        "del thisdict[\"model\"]\n",
        "\n",
        "for x in thisdict:\n",
        "  print(x, thisdict[x])\n",
        "  \n",
        "print(\"model\" in thisdict)"
      ],
      "execution_count": 9,
      "outputs": [
        {
          "output_type": "stream",
          "text": [
            "brand Ford\n",
            "year 1964\n",
            "False\n"
          ],
          "name": "stdout"
        }
      ]
    },
    {
      "cell_type": "code",
      "metadata": {
        "colab_type": "code",
        "id": "553A3Pl3o8zR",
        "outputId": "2aebcd4b-92ad-4816-fc42-6e697763f645",
        "colab": {
          "base_uri": "https://localhost:8080/",
          "height": 119
        }
      },
      "source": [
        "# intro to numpy\n",
        "# advantages of numpy over list: convenient, fast, memory efficient\n",
        "\n",
        "import numpy as np\n",
        "\n",
        "\n",
        "# from list\n",
        "a = np.array([1, 2, 3])\n",
        "print(a.shape)\n",
        "print(a.dtype)\n",
        "print(a[0], a[1], a[2])\n",
        "a[0] = 5\n",
        "print(a)\n",
        "\n",
        "b = np.array([[1,2,3],[4,5,6]], dtype=np.int64)\n",
        "print(b.shape)                   \n",
        "print(b[0, 0], b[0, 1], b[1, 0])\n",
        "\n"
      ],
      "execution_count": 0,
      "outputs": [
        {
          "output_type": "stream",
          "text": [
            "(3,)\n",
            "int64\n",
            "1 2 3\n",
            "[5 2 3]\n",
            "(2, 3)\n",
            "1 2 4\n"
          ],
          "name": "stdout"
        }
      ]
    },
    {
      "cell_type": "code",
      "metadata": {
        "colab_type": "code",
        "id": "JuHe5ia9YdYL",
        "outputId": "79ea61e7-8758-4577-ecb5-db54cabe8064",
        "colab": {
          "base_uri": "https://localhost:8080/",
          "height": 204
        }
      },
      "source": [
        "# create array\n",
        "\n",
        "a = np.zeros((2,2))\n",
        "print(a) \n",
        "\n",
        "b = np.ones((1,2))\n",
        "print(b)\n",
        "\n",
        "c = np.full((2,2), 7)\n",
        "print(c)\n",
        "\n",
        "d = np.eye(2)\n",
        "print(d)\n",
        "\n",
        "e = np.random.random((2,2))\n",
        "print(e)\n",
        "  \n",
        "\n",
        "# other operations\n",
        "\n",
        "a = np.arange(1,5, 2)\n",
        "a.reshape(2,1)\n",
        "print(a)\n",
        "bool_idx = (a > 2)\n",
        "print(bool_idx)\n",
        " "
      ],
      "execution_count": 0,
      "outputs": [
        {
          "output_type": "stream",
          "text": [
            "[[0. 0.]\n",
            " [0. 0.]]\n",
            "[[1. 1.]]\n",
            "[[7 7]\n",
            " [7 7]]\n",
            "[[1. 0.]\n",
            " [0. 1.]]\n",
            "[[0.33983648 0.48478324]\n",
            " [0.58380519 0.11434571]]\n",
            "[1 3]\n",
            "[False  True]\n"
          ],
          "name": "stdout"
        }
      ]
    },
    {
      "cell_type": "code",
      "metadata": {
        "colab_type": "code",
        "id": "D34G6mbVb4Iu",
        "colab": {}
      },
      "source": [
        "# slicing, value changing\n",
        "a = np.array([[1,2,3,4], [5,6,7,8], [9,10,11,12]])\n",
        "\n",
        "b = a[:2, 1:3]\n",
        "\n",
        "\n",
        "print(a[0, 1])\n",
        "\n",
        "b[0, 0] = 77\n",
        "\n",
        "print(a[0, 1])\n"
      ],
      "execution_count": 0,
      "outputs": []
    },
    {
      "cell_type": "code",
      "metadata": {
        "id": "pJgrPCEqQgzA",
        "colab_type": "code",
        "colab": {
          "base_uri": "https://localhost:8080/",
          "height": 119
        },
        "outputId": "424e1eb2-f80f-4652-a044-375573315eb2"
      },
      "source": [
        "# Complex Numbers using Numpy \n",
        "\n",
        "Z = 5 + 3j \n",
        "network = np.array([[1+2j, 2+1j],\\\n",
        "                   [3+1j, 2+4j]])\n",
        "\n",
        "print(Z)\n",
        "print(Z.real)\n",
        "print(network)\n",
        "print(network.imag)\n"
      ],
      "execution_count": 20,
      "outputs": [
        {
          "output_type": "stream",
          "text": [
            "(5+3j)\n",
            "5.0\n",
            "[[1.+2.j 2.+1.j]\n",
            " [3.+1.j 2.+4.j]]\n",
            "[[2. 1.]\n",
            " [1. 4.]]\n"
          ],
          "name": "stdout"
        }
      ]
    },
    {
      "cell_type": "code",
      "metadata": {
        "colab_type": "code",
        "id": "uZyrrDAYb5EM",
        "outputId": "55130ce9-8512-48d3-d2df-22ece227906e",
        "colab": {
          "base_uri": "https://localhost:8080/",
          "height": 323
        }
      },
      "source": [
        "# math operations; check your linear algebra operators\n",
        "\n",
        "x = np.array([[1,2],[3,4]], dtype=np.float64)\n",
        "y = np.array([[5,6],[7,8]], dtype=np.float64)\n",
        "print(x + y)\n",
        "print(x * 3)\n",
        "print(np.sqrt(x))\n",
        "\n",
        "\n",
        "v = np.array([9,10])\n",
        "w = np.array([11, 12])\n",
        "\n",
        "print(x+v)\n",
        "#\n",
        "## Inner product of vectors\n",
        "print(v.dot(w))\n",
        "#\n",
        "print(x.dot(v))\n",
        "#\n",
        "print(x.dot(y))\n",
        "#\n",
        "print(x.T)\n",
        "#\n",
        "print(x.mean())\n",
        "print(x.var())\n",
        "print(x.std())\n",
        "print(x.sum(axis=1))\n",
        "#\n",
        "##np.loadtxt('filename.txt')\n"
      ],
      "execution_count": 0,
      "outputs": [
        {
          "output_type": "stream",
          "text": [
            "[[ 6.  8.]\n",
            " [10. 12.]]\n",
            "[[ 3.  6.]\n",
            " [ 9. 12.]]\n",
            "[[1.         1.41421356]\n",
            " [1.73205081 2.        ]]\n",
            "[[10. 12.]\n",
            " [12. 14.]]\n",
            "219\n",
            "[29. 67.]\n",
            "[[19. 22.]\n",
            " [43. 50.]]\n",
            "[[1. 3.]\n",
            " [2. 4.]]\n",
            "2.5\n",
            "1.25\n",
            "1.118033988749895\n",
            "[3. 7.]\n"
          ],
          "name": "stdout"
        }
      ]
    },
    {
      "cell_type": "code",
      "metadata": {
        "colab_type": "code",
        "id": "85HnrjdHcuJC",
        "colab": {}
      },
      "source": [
        "# linalg\n",
        "\n",
        "from scipy import linalg\n",
        "A = np.array([[1,3,5],[2,5,1],[2,3,8]])\n",
        "linalg.inv(A)\n",
        "\n",
        "linalg.det(A)"
      ],
      "execution_count": 0,
      "outputs": []
    },
    {
      "cell_type": "code",
      "metadata": {
        "id": "GA6-Kun9l-tT",
        "colab_type": "code",
        "colab": {
          "base_uri": "https://localhost:8080/",
          "height": 51
        },
        "outputId": "9cdd9b89-8576-42d4-ce95-a333b3177356"
      },
      "source": [
        "# Copies and views can super easily be the source of bug\n",
        "x = np.zeros(5)\n",
        "y = x\n",
        "y[0] = 1.0\n",
        "print('x = ', x)\n",
        "print('y = ', y)"
      ],
      "execution_count": 31,
      "outputs": [
        {
          "output_type": "stream",
          "text": [
            "x =  [1. 0. 0. 0. 0.]\n",
            "y =  [1. 0. 0. 0. 0.]\n"
          ],
          "name": "stdout"
        }
      ]
    },
    {
      "cell_type": "code",
      "metadata": {
        "id": "yQXV2YHKmJNr",
        "colab_type": "code",
        "colab": {
          "base_uri": "https://localhost:8080/",
          "height": 51
        },
        "outputId": "b04b1929-32aa-41ce-8b6a-9fa2d99b1fa4"
      },
      "source": [
        "x = np.zeros(5)\n",
        "y = x.copy()\n",
        "y[0] = 1.0\n",
        "print('x = ', x)\n",
        "print('y = ', y)"
      ],
      "execution_count": 33,
      "outputs": [
        {
          "output_type": "stream",
          "text": [
            "x =  [0. 0. 0. 0. 0.]\n",
            "y =  [1. 0. 0. 0. 0.]\n"
          ],
          "name": "stdout"
        }
      ]
    },
    {
      "cell_type": "code",
      "metadata": {
        "id": "518YC5BHmKeR",
        "colab_type": "code",
        "colab": {
          "base_uri": "https://localhost:8080/",
          "height": 51
        },
        "outputId": "f19635af-bc62-4cf5-fe1b-1d2c1fcdcf42"
      },
      "source": [
        "# slicing is a view\n",
        "X = np.zeros((2,3))\n",
        "x0 = X[:,0]\n",
        "x0[:] = 1.0\n",
        "print('X = ', X)"
      ],
      "execution_count": 34,
      "outputs": [
        {
          "output_type": "stream",
          "text": [
            "X =  [[1. 0. 0.]\n",
            " [1. 0. 0.]]\n"
          ],
          "name": "stdout"
        }
      ]
    },
    {
      "cell_type": "code",
      "metadata": {
        "id": "lUe_-BrcmOph",
        "colab_type": "code",
        "colab": {}
      },
      "source": [
        "# Reading Data from Excel\n",
        "import openpyxl \n",
        "\n",
        "file = \"input.xlsx\"\n",
        "\n",
        "wb = openpyxl.load_workbook(file, data_only=True)\n",
        "\n",
        "sheet = wb['BusData']"
      ],
      "execution_count": 0,
      "outputs": []
    },
    {
      "cell_type": "code",
      "metadata": {
        "id": "48Xl57nI9_Rk",
        "colab_type": "code",
        "colab": {}
      },
      "source": [
        "# Writing arrays to output files\n",
        "# This is one example, many Python libraries achieve the same result\n",
        "\n",
        "N = 5 \n",
        "mydata = np.ones((N,N))\n",
        "\n",
        "filepath = \"output.xlsx\"\n",
        "\n",
        "workbook = xlsxwriter.Workbook(filepath)\n",
        "worksheet = workbook.add_worksheet()\n",
        "\n",
        "row = 0\n",
        "\n",
        "for col, data in enumerate(mydata):\n",
        "    worksheet.write_column(row, col, data)\n",
        "\n",
        "workbook.close()"
      ],
      "execution_count": 0,
      "outputs": []
    },
    {
      "cell_type": "code",
      "metadata": {
        "colab_type": "code",
        "id": "_0zCNPBboqIY",
        "outputId": "ac4456ca-f1b6-467c-d2fa-10744e06d780",
        "colab": {
          "base_uri": "https://localhost:8080/",
          "height": 51
        }
      },
      "source": [
        "# define functions\n",
        "\n",
        "def myfunc(name):\n",
        "  print(\"Hello, my name is \" + name)\n",
        "\n",
        "def doCalc(in1, in2):\n",
        "  res = in1 + in2\n",
        "  return res\n",
        "\n",
        "myfunc('Jackie')\n",
        "\n",
        "output = doCalc(4, 7)\n",
        "out2 = doCalc(Z,network[1,1])\n",
        "\n",
        "print(out2)"
      ],
      "execution_count": 23,
      "outputs": [
        {
          "output_type": "stream",
          "text": [
            "Hello, my name is Jackie\n",
            "(7+7j)\n"
          ],
          "name": "stdout"
        }
      ]
    },
    {
      "cell_type": "code",
      "metadata": {
        "colab_type": "code",
        "id": "Zh9r7suPmRNB",
        "colab": {
          "base_uri": "https://localhost:8080/",
          "height": 34
        },
        "outputId": "1b831fb6-09d6-4504-c626-be450520e586"
      },
      "source": [
        "# define class\n",
        "\n",
        "class Person:\n",
        "  def __init__(self, name, age):\n",
        "    self.name = name\n",
        "    self.age = age\n",
        "\n",
        "  def myfunc(self):\n",
        "    print(\"Hello, my name is \" + self.name)\n",
        "\n",
        "p1 = Person(\"John\", 36)\n",
        "p1.myfunc()"
      ],
      "execution_count": 24,
      "outputs": [
        {
          "output_type": "stream",
          "text": [
            "Hello, my name is John\n"
          ],
          "name": "stdout"
        }
      ]
    },
    {
      "cell_type": "code",
      "metadata": {
        "id": "nhBd2sGb45Se",
        "colab_type": "code",
        "colab": {}
      },
      "source": [
        ""
      ],
      "execution_count": 0,
      "outputs": []
    },
    {
      "cell_type": "markdown",
      "metadata": {
        "id": "wb6dJSyCk-Es",
        "colab_type": "text"
      },
      "source": [
        "Below are additional Python sample functions for reference"
      ]
    },
    {
      "cell_type": "code",
      "metadata": {
        "colab_type": "code",
        "id": "lY9-TQ_QvB_B",
        "outputId": "81e073ca-5b3b-42ef-926a-3dda4f11fe28",
        "colab": {
          "base_uri": "https://localhost:8080/",
          "height": 34
        }
      },
      "source": [
        "# python doesn't throw out error until it runs the line\n",
        "\n",
        "name= 'Jackie'\n",
        "\n",
        "if name is 'Jackie':\n",
        "  print('hi '+name)\n",
        "else:\n",
        "  whatever()"
      ],
      "execution_count": 10,
      "outputs": [
        {
          "output_type": "stream",
          "text": [
            "hi Jackie\n"
          ],
          "name": "stdout"
        }
      ]
    },
    {
      "cell_type": "code",
      "metadata": {
        "colab_type": "code",
        "id": "gFRKGfbDukAn",
        "colab": {}
      },
      "source": [
        "# intro to matplotlib\n",
        "# https://matplotlib.org/tutorials/index.html\n",
        "\n",
        "import numpy as np\n",
        "import matplotlib.pyplot as plt\n",
        "\n",
        "# Compute the x and y coordinates for points on a sine curve\n",
        "x = np.arange(0, 3 * np.pi, 0.1)\n",
        "y_sin = np.sin(x)\n",
        "y_cos = np.cos(x)\n",
        "\n",
        "# Plot the points using matplotlib\n",
        "plt.plot(x, y_sin)\n",
        "plt.plot(x, y_cos)\n",
        "plt.xlabel('x axis label')\n",
        "plt.ylabel('y axis label')\n",
        "plt.title('Sine and Cosine')\n",
        "plt.legend(['Sine', 'Cosine'])\n",
        "plt.show()"
      ],
      "execution_count": 0,
      "outputs": []
    },
    {
      "cell_type": "code",
      "metadata": {
        "colab_type": "code",
        "id": "MhY_6em0s8ps",
        "colab": {}
      },
      "source": [
        "# intro to scipy\n",
        "# https://docs.scipy.org/doc/scipy/reference/tutorial/index.html\n",
        "\n",
        "import numpy as np\n",
        "from scipy.spatial.distance import pdist, squareform\n",
        "\n",
        "# Create the following array where each row is a point in 2D space:\n",
        "x = np.array([[0, 1], [1, 0], [2, 0]])\n",
        "print(x)\n",
        "\n",
        "# Compute the Euclidean distance between all rows of x.\n",
        "# d[i, j] is the Euclidean distance between x[i, :] and x[j, :],\n",
        "d = squareform(pdist(x, 'euclidean'))\n",
        "print(d)\n"
      ],
      "execution_count": 0,
      "outputs": []
    },
    {
      "cell_type": "code",
      "metadata": {
        "colab_type": "code",
        "id": "PA_C_9DqcsCK",
        "colab": {}
      },
      "source": [
        "# integrate\n",
        "\n",
        "import scipy.integrate as integrate\n",
        "\n",
        "result = integrate.quad(lambda x: x**2, 0, 1)\n",
        "print(result[0])\n",
        "\n",
        "\n",
        "integrate.quad(lambda x: yourfunc(x), 0, np.inf)\n"
      ],
      "execution_count": 0,
      "outputs": []
    },
    {
      "cell_type": "code",
      "metadata": {
        "colab_type": "code",
        "id": "yLEGBT-QlQYV",
        "outputId": "9d1b2d5a-b3ec-4968-e119-9393700d8658",
        "colab": {
          "base_uri": "https://localhost:8080/",
          "height": 187
        }
      },
      "source": [
        "# file I/O\n",
        "\n",
        "fname = 'file.txt'\n",
        "\n",
        "with open(fname, 'w') as fin:\n",
        "  for i in range(10):\n",
        "    fin.write(str(i)+'\\n')\n",
        "    \n",
        "with open(fname) as fin:\n",
        "  for line in fin:\n",
        "    print(line.strip())"
      ],
      "execution_count": 0,
      "outputs": [
        {
          "output_type": "stream",
          "text": [
            "0\n",
            "1\n",
            "2\n",
            "3\n",
            "4\n",
            "5\n",
            "6\n",
            "7\n",
            "8\n",
            "9\n"
          ],
          "name": "stdout"
        }
      ]
    },
    {
      "cell_type": "code",
      "metadata": {
        "colab_type": "code",
        "id": "NnZQF68hl1-K",
        "colab": {}
      },
      "source": [
        "# package for file, directory read\n",
        "\n",
        "import os"
      ],
      "execution_count": 0,
      "outputs": []
    }
  ]
}